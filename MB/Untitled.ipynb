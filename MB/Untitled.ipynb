{
 "cells": [
  {
   "cell_type": "code",
   "execution_count": 1,
   "id": "ab03084f",
   "metadata": {},
   "outputs": [
    {
     "name": "stdout",
     "output_type": "stream",
     "text": [
      "Enter the lenght of cube: 3\n",
      "Enter the width of cube: 4\n",
      "Enter the height of cube: 5\n",
      "The cube surface area with given values is 94.00\n",
      "The cube volume with given values is 60\n"
     ]
    }
   ],
   "source": [
    "#exercise 1-7 calculating cube Area and volume\n",
    "# print (\"enter Length:\")\n",
    "l= int(input(\"Enter the lenght of cube: \" ))\n",
    "# print (\"enter Width:\")\n",
    "w = int(input(\"Enter the width of cube: \" ))\n",
    "# print (\"enter Height:\")\n",
    "h = int(input(\"Enter the height of cube: \" ))\n",
    "area = 2 * ((l*w) + (h*l) + (h*w))\n",
    "volume = l * w * h\n",
    "print(f'The cube surface area with given values is {area:.2f}')\n",
    "print(f'The cube volume with given values is {volume}')\n",
    "\n"
   ]
  },
  {
   "cell_type": "code",
   "execution_count": null,
   "id": "4f592680",
   "metadata": {},
   "outputs": [],
   "source": []
  }
 ],
 "metadata": {
  "kernelspec": {
   "display_name": "Python 3 (ipykernel)",
   "language": "python",
   "name": "python3"
  },
  "language_info": {
   "codemirror_mode": {
    "name": "ipython",
    "version": 3
   },
   "file_extension": ".py",
   "mimetype": "text/x-python",
   "name": "python",
   "nbconvert_exporter": "python",
   "pygments_lexer": "ipython3",
   "version": "3.11.5"
  }
 },
 "nbformat": 4,
 "nbformat_minor": 5
}
